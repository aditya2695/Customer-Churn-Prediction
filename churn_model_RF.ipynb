{
 "cells": [
  {
   "cell_type": "markdown",
   "metadata": {},
   "source": [
    "<h1>Project 3: Swan Teleco</h1>\n",
    "<h3>Customer Retention Marketing</h2>"
   ]
  },
  {
   "cell_type": "markdown",
   "metadata": {},
   "source": [
    "Import Libraries"
   ]
  },
  {
   "cell_type": "code",
   "execution_count": 413,
   "metadata": {},
   "outputs": [],
   "source": [
    "import numpy as np\n",
    "import seaborn as sns\n",
    "import matplotlib.pyplot as plt\n",
    "import pandas as pd\n",
    "\n",
    "from sklearn import metrics\n",
    "import scipy.stats as stats\n",
    "from scipy.stats import zscore\n",
    "from time import time\n",
    "from tqdm import tqdm\n",
    "import joblib\n",
    "%matplotlib inline\n",
    "\n",
    "from sklearn.preprocessing import LabelEncoder\n",
    "from sklearn.tree import DecisionTreeClassifier\n",
    "from sklearn.model_selection import train_test_split, cross_val_score, GridSearchCV,StratifiedKFold\n",
    "from sklearn.metrics import confusion_matrix, accuracy_score\n",
    "from sklearn.ensemble import BaggingClassifier\n",
    "from sklearn.ensemble import RandomForestClassifier, ExtraTreesClassifier\n",
    "\n",
    "from sklearn.metrics import ConfusionMatrixDisplay\n",
    "from sklearn.metrics import roc_curve\n",
    "from sklearn.compose import ColumnTransformer\n",
    "from sklearn.preprocessing import StandardScaler\n",
    "from imblearn.over_sampling import SMOTE\n",
    "\n",
    "\n",
    "sns.set_style(\"whitegrid\")\n",
    "\n",
    "\n"
   ]
  },
  {
   "cell_type": "markdown",
   "metadata": {},
   "source": [
    "Functions for Model Evaluation"
   ]
  },
  {
   "cell_type": "code",
   "execution_count": 414,
   "metadata": {},
   "outputs": [],
   "source": [
    "def apr(y_pred, y_real):\n",
    "\n",
    "\n",
    "    accuracy = round(metrics.accuracy_score(y_real, y_pred),2)\n",
    "    precision = round(metrics.precision_score(y_real, y_pred,pos_label='1'),2)\n",
    "    recall = round(metrics.recall_score(y_real, y_pred,pos_label='1'),2)\n",
    "    f1 = round(metrics.f1_score(y_real, y_pred,pos_label='1'),2)\n",
    "    \n",
    "    print(f\"Accuracy:{accuracy}\")\n",
    "    print(f\"Precision:{precision}\")\n",
    "    print(f\"Recall:{recall}\")\n",
    "    print(f\"F1:{f1}\")\n",
    "    return accuracy, precision, recall, f1\n",
    "\n",
    "\n",
    "##\n",
    "\n",
    "def produce_confusion(positive_label, negative_label,y_test,y_pred):\n",
    "    \n",
    "   \n",
    "    #Build the CM\n",
    "    plt.figure(figsize=(7,5))\n",
    "\n",
    "    cm = metrics.confusion_matrix(y_test, y_pred) \n",
    "    \n",
    "    ax= plt.subplot()\n",
    "    sns.heatmap(cm, annot=True, ax=ax, fmt='g'); \n",
    "\n",
    "    # labels, title, ticks\n",
    "    ax.set_xlabel('Predicted labels');ax.set_ylabel('Real labels'); \n",
    "    ax.set_title('Confusion Matrix'); \n",
    "    ax.xaxis.set_ticklabels(['Not Churned', 'Churned'])\n",
    "    ax.yaxis.set_ticklabels(['Not Churned', 'Churned'])\n",
    "\n",
    "    plt.show()\n"
   ]
  },
  {
   "cell_type": "markdown",
   "metadata": {},
   "source": [
    "### Import Data"
   ]
  },
  {
   "cell_type": "code",
   "execution_count": 415,
   "metadata": {},
   "outputs": [
    {
     "data": {
      "text/plain": [
       "(7032, 22)"
      ]
     },
     "execution_count": 415,
     "metadata": {},
     "output_type": "execute_result"
    }
   ],
   "source": [
    "file_name = \"data/cleaned_data.csv\"\n",
    "df = pd.read_csv(file_name)\n",
    "df.shape"
   ]
  },
  {
   "cell_type": "code",
   "execution_count": 416,
   "metadata": {},
   "outputs": [
    {
     "data": {
      "text/html": [
       "<div>\n",
       "<style scoped>\n",
       "    .dataframe tbody tr th:only-of-type {\n",
       "        vertical-align: middle;\n",
       "    }\n",
       "\n",
       "    .dataframe tbody tr th {\n",
       "        vertical-align: top;\n",
       "    }\n",
       "\n",
       "    .dataframe thead th {\n",
       "        text-align: right;\n",
       "    }\n",
       "</style>\n",
       "<table border=\"1\" class=\"dataframe\">\n",
       "  <thead>\n",
       "    <tr style=\"text-align: right;\">\n",
       "      <th></th>\n",
       "      <th>CustomerID</th>\n",
       "      <th>Count</th>\n",
       "      <th>Gender</th>\n",
       "      <th>Senior Citizen</th>\n",
       "      <th>Partner</th>\n",
       "      <th>Dependents</th>\n",
       "      <th>Tenure Months</th>\n",
       "      <th>Phone Service</th>\n",
       "      <th>Multiple Lines</th>\n",
       "      <th>Internet Service</th>\n",
       "      <th>...</th>\n",
       "      <th>Device Protection</th>\n",
       "      <th>Tech Support</th>\n",
       "      <th>Streaming TV</th>\n",
       "      <th>Streaming Movies</th>\n",
       "      <th>Contract</th>\n",
       "      <th>Paperless Billing</th>\n",
       "      <th>Payment Method</th>\n",
       "      <th>Monthly Charges</th>\n",
       "      <th>Churn Label</th>\n",
       "      <th>Churn Value</th>\n",
       "    </tr>\n",
       "  </thead>\n",
       "  <tbody>\n",
       "    <tr>\n",
       "      <th>0</th>\n",
       "      <td>3668-QPYBK</td>\n",
       "      <td>1</td>\n",
       "      <td>Male</td>\n",
       "      <td>No</td>\n",
       "      <td>No</td>\n",
       "      <td>No</td>\n",
       "      <td>2</td>\n",
       "      <td>Yes</td>\n",
       "      <td>No</td>\n",
       "      <td>DSL</td>\n",
       "      <td>...</td>\n",
       "      <td>No</td>\n",
       "      <td>No</td>\n",
       "      <td>No</td>\n",
       "      <td>No</td>\n",
       "      <td>Month-to-month</td>\n",
       "      <td>Yes</td>\n",
       "      <td>Mailed check</td>\n",
       "      <td>53.85</td>\n",
       "      <td>Yes</td>\n",
       "      <td>1</td>\n",
       "    </tr>\n",
       "    <tr>\n",
       "      <th>1</th>\n",
       "      <td>9237-HQITU</td>\n",
       "      <td>1</td>\n",
       "      <td>Female</td>\n",
       "      <td>No</td>\n",
       "      <td>No</td>\n",
       "      <td>Yes</td>\n",
       "      <td>2</td>\n",
       "      <td>Yes</td>\n",
       "      <td>No</td>\n",
       "      <td>Fiber optic</td>\n",
       "      <td>...</td>\n",
       "      <td>No</td>\n",
       "      <td>No</td>\n",
       "      <td>No</td>\n",
       "      <td>No</td>\n",
       "      <td>Month-to-month</td>\n",
       "      <td>Yes</td>\n",
       "      <td>Electronic check</td>\n",
       "      <td>70.70</td>\n",
       "      <td>Yes</td>\n",
       "      <td>1</td>\n",
       "    </tr>\n",
       "    <tr>\n",
       "      <th>2</th>\n",
       "      <td>9305-CDSKC</td>\n",
       "      <td>1</td>\n",
       "      <td>Female</td>\n",
       "      <td>No</td>\n",
       "      <td>No</td>\n",
       "      <td>Yes</td>\n",
       "      <td>8</td>\n",
       "      <td>Yes</td>\n",
       "      <td>Yes</td>\n",
       "      <td>Fiber optic</td>\n",
       "      <td>...</td>\n",
       "      <td>Yes</td>\n",
       "      <td>No</td>\n",
       "      <td>Yes</td>\n",
       "      <td>Yes</td>\n",
       "      <td>Month-to-month</td>\n",
       "      <td>Yes</td>\n",
       "      <td>Electronic check</td>\n",
       "      <td>99.65</td>\n",
       "      <td>Yes</td>\n",
       "      <td>1</td>\n",
       "    </tr>\n",
       "    <tr>\n",
       "      <th>3</th>\n",
       "      <td>7892-POOKP</td>\n",
       "      <td>1</td>\n",
       "      <td>Female</td>\n",
       "      <td>No</td>\n",
       "      <td>Yes</td>\n",
       "      <td>Yes</td>\n",
       "      <td>28</td>\n",
       "      <td>Yes</td>\n",
       "      <td>Yes</td>\n",
       "      <td>Fiber optic</td>\n",
       "      <td>...</td>\n",
       "      <td>Yes</td>\n",
       "      <td>Yes</td>\n",
       "      <td>Yes</td>\n",
       "      <td>Yes</td>\n",
       "      <td>Month-to-month</td>\n",
       "      <td>Yes</td>\n",
       "      <td>Electronic check</td>\n",
       "      <td>104.80</td>\n",
       "      <td>Yes</td>\n",
       "      <td>1</td>\n",
       "    </tr>\n",
       "    <tr>\n",
       "      <th>4</th>\n",
       "      <td>0280-XJGEX</td>\n",
       "      <td>1</td>\n",
       "      <td>Male</td>\n",
       "      <td>No</td>\n",
       "      <td>No</td>\n",
       "      <td>Yes</td>\n",
       "      <td>49</td>\n",
       "      <td>Yes</td>\n",
       "      <td>Yes</td>\n",
       "      <td>Fiber optic</td>\n",
       "      <td>...</td>\n",
       "      <td>Yes</td>\n",
       "      <td>No</td>\n",
       "      <td>Yes</td>\n",
       "      <td>Yes</td>\n",
       "      <td>Month-to-month</td>\n",
       "      <td>Yes</td>\n",
       "      <td>Bank transfer (automatic)</td>\n",
       "      <td>103.70</td>\n",
       "      <td>Yes</td>\n",
       "      <td>1</td>\n",
       "    </tr>\n",
       "  </tbody>\n",
       "</table>\n",
       "<p>5 rows × 22 columns</p>\n",
       "</div>"
      ],
      "text/plain": [
       "   CustomerID  Count  Gender Senior Citizen Partner Dependents  Tenure Months  \\\n",
       "0  3668-QPYBK      1    Male             No      No         No              2   \n",
       "1  9237-HQITU      1  Female             No      No        Yes              2   \n",
       "2  9305-CDSKC      1  Female             No      No        Yes              8   \n",
       "3  7892-POOKP      1  Female             No     Yes        Yes             28   \n",
       "4  0280-XJGEX      1    Male             No      No        Yes             49   \n",
       "\n",
       "  Phone Service Multiple Lines Internet Service  ... Device Protection  \\\n",
       "0           Yes             No              DSL  ...                No   \n",
       "1           Yes             No      Fiber optic  ...                No   \n",
       "2           Yes            Yes      Fiber optic  ...               Yes   \n",
       "3           Yes            Yes      Fiber optic  ...               Yes   \n",
       "4           Yes            Yes      Fiber optic  ...               Yes   \n",
       "\n",
       "  Tech Support Streaming TV Streaming Movies        Contract  \\\n",
       "0           No           No               No  Month-to-month   \n",
       "1           No           No               No  Month-to-month   \n",
       "2           No          Yes              Yes  Month-to-month   \n",
       "3          Yes          Yes              Yes  Month-to-month   \n",
       "4           No          Yes              Yes  Month-to-month   \n",
       "\n",
       "  Paperless Billing             Payment Method Monthly Charges Churn Label  \\\n",
       "0               Yes               Mailed check           53.85         Yes   \n",
       "1               Yes           Electronic check           70.70         Yes   \n",
       "2               Yes           Electronic check           99.65         Yes   \n",
       "3               Yes           Electronic check          104.80         Yes   \n",
       "4               Yes  Bank transfer (automatic)          103.70         Yes   \n",
       "\n",
       "   Churn Value  \n",
       "0            1  \n",
       "1            1  \n",
       "2            1  \n",
       "3            1  \n",
       "4            1  \n",
       "\n",
       "[5 rows x 22 columns]"
      ]
     },
     "execution_count": 416,
     "metadata": {},
     "output_type": "execute_result"
    }
   ],
   "source": [
    "df.head()"
   ]
  },
  {
   "cell_type": "code",
   "execution_count": 417,
   "metadata": {},
   "outputs": [],
   "source": [
    "# cols_to_remove =  ['Count','Churn Label','Lat Long','Country','State','City']\n",
    "\n",
    "# df.drop(columns = cols_to_remove, inplace = True)\n",
    "\n",
    "# # remove rows with whitespaces as values\n",
    "# df = df.drop(df[df['Total Charges'] == ' '].index)\n",
    "# df = df.drop(df[df['Monthly Charges'] == ' '].index)\n",
    "# df.shape"
   ]
  },
  {
   "cell_type": "code",
   "execution_count": 418,
   "metadata": {},
   "outputs": [
    {
     "data": {
      "text/plain": [
       "CustomerID           0.0\n",
       "Count                0.0\n",
       "Gender               0.0\n",
       "Senior Citizen       0.0\n",
       "Partner              0.0\n",
       "Dependents           0.0\n",
       "Tenure Months        0.0\n",
       "Phone Service        0.0\n",
       "Multiple Lines       0.0\n",
       "Internet Service     0.0\n",
       "Online Security      0.0\n",
       "Online Backup        0.0\n",
       "Device Protection    0.0\n",
       "Tech Support         0.0\n",
       "Streaming TV         0.0\n",
       "Streaming Movies     0.0\n",
       "Contract             0.0\n",
       "Paperless Billing    0.0\n",
       "Payment Method       0.0\n",
       "Monthly Charges      0.0\n",
       "Churn Label          0.0\n",
       "Churn Value          0.0\n",
       "dtype: float64"
      ]
     },
     "execution_count": 418,
     "metadata": {},
     "output_type": "execute_result"
    }
   ],
   "source": [
    "df.isnull().mean().round(4) * 100"
   ]
  },
  {
   "cell_type": "code",
   "execution_count": 419,
   "metadata": {},
   "outputs": [
    {
     "data": {
      "text/plain": [
       "(5163, 22)"
      ]
     },
     "execution_count": 419,
     "metadata": {},
     "output_type": "execute_result"
    }
   ],
   "source": [
    "df[df['Churn Value'] == 0].shape"
   ]
  },
  {
   "cell_type": "code",
   "execution_count": 420,
   "metadata": {},
   "outputs": [],
   "source": [
    "# Select only the continuous features from the dataset\n",
    "cont_features = df.select_dtypes(include=['float', 'int']).columns.to_list()\n",
    "cat_features = df.select_dtypes(include=['object']).columns.to_list()\n"
   ]
  },
  {
   "cell_type": "code",
   "execution_count": 421,
   "metadata": {},
   "outputs": [
    {
     "data": {
      "text/plain": [
       "['Count', 'Tenure Months', 'Monthly Charges', 'Churn Value']"
      ]
     },
     "execution_count": 421,
     "metadata": {},
     "output_type": "execute_result"
    }
   ],
   "source": [
    "cont_features"
   ]
  },
  {
   "cell_type": "code",
   "execution_count": 422,
   "metadata": {},
   "outputs": [
    {
     "data": {
      "image/png": "[encoded data removed]",
      "text/plain": [
       "<Figure size 720x1152 with 4 Axes>"
      ]
     },
     "metadata": {},
     "output_type": "display_data"
    }
   ],
   "source": [
    "# Get the number of columns in the dataset\n",
    "\n",
    "cont_df=df[cont_features]\n",
    "\n",
    "num_columns = cont_df.shape[1]\n",
    "\n",
    "# Create a figure with a subplot for each column\n",
    "fig, axes = plt.subplots(num_columns, figsize=(10, num_columns*4))\n",
    "# Rotate the x-axis labels at an angle\n",
    "plt.xticks(rotation=45)\n",
    "# Plot a histogram for each column\n",
    "for i in range(num_columns):\n",
    "    column = cont_df.columns[i]\n",
    "    axes[i].hist(cont_df[column])\n",
    "    axes[i].set_title(column)\n",
    "    #axes[i].set_xticks(rotation=45)\n",
    "\n",
    "plt.show()"
   ]
  },
  {
   "cell_type": "code",
   "execution_count": 423,
   "metadata": {},
   "outputs": [
    {
     "data": {
      "text/html": [
       "<div>\n",
       "<style scoped>\n",
       "    .dataframe tbody tr th:only-of-type {\n",
       "        vertical-align: middle;\n",
       "    }\n",
       "\n",
       "    .dataframe tbody tr th {\n",
       "        vertical-align: top;\n",
       "    }\n",
       "\n",
       "    .dataframe thead th {\n",
       "        text-align: right;\n",
       "    }\n",
       "</style>\n",
       "<table border=\"1\" class=\"dataframe\">\n",
       "  <thead>\n",
       "    <tr style=\"text-align: right;\">\n",
       "      <th></th>\n",
       "      <th>Count</th>\n",
       "      <th>Tenure Months</th>\n",
       "      <th>Monthly Charges</th>\n",
       "      <th>Churn Value</th>\n",
       "    </tr>\n",
       "  </thead>\n",
       "  <tbody>\n",
       "    <tr>\n",
       "      <th>count</th>\n",
       "      <td>7032.0</td>\n",
       "      <td>7032.000000</td>\n",
       "      <td>7032.000000</td>\n",
       "      <td>7032.000000</td>\n",
       "    </tr>\n",
       "    <tr>\n",
       "      <th>mean</th>\n",
       "      <td>1.0</td>\n",
       "      <td>32.421786</td>\n",
       "      <td>64.798208</td>\n",
       "      <td>0.265785</td>\n",
       "    </tr>\n",
       "    <tr>\n",
       "      <th>std</th>\n",
       "      <td>0.0</td>\n",
       "      <td>24.545260</td>\n",
       "      <td>30.085974</td>\n",
       "      <td>0.441782</td>\n",
       "    </tr>\n",
       "    <tr>\n",
       "      <th>min</th>\n",
       "      <td>1.0</td>\n",
       "      <td>1.000000</td>\n",
       "      <td>18.250000</td>\n",
       "      <td>0.000000</td>\n",
       "    </tr>\n",
       "    <tr>\n",
       "      <th>25%</th>\n",
       "      <td>1.0</td>\n",
       "      <td>9.000000</td>\n",
       "      <td>35.587500</td>\n",
       "      <td>0.000000</td>\n",
       "    </tr>\n",
       "    <tr>\n",
       "      <th>50%</th>\n",
       "      <td>1.0</td>\n",
       "      <td>29.000000</td>\n",
       "      <td>70.350000</td>\n",
       "      <td>0.000000</td>\n",
       "    </tr>\n",
       "    <tr>\n",
       "      <th>75%</th>\n",
       "      <td>1.0</td>\n",
       "      <td>55.000000</td>\n",
       "      <td>89.862500</td>\n",
       "      <td>1.000000</td>\n",
       "    </tr>\n",
       "    <tr>\n",
       "      <th>max</th>\n",
       "      <td>1.0</td>\n",
       "      <td>72.000000</td>\n",
       "      <td>118.750000</td>\n",
       "      <td>1.000000</td>\n",
       "    </tr>\n",
       "  </tbody>\n",
       "</table>\n",
       "</div>"
      ],
      "text/plain": [
       "        Count  Tenure Months  Monthly Charges  Churn Value\n",
       "count  7032.0    7032.000000      7032.000000  7032.000000\n",
       "mean      1.0      32.421786        64.798208     0.265785\n",
       "std       0.0      24.545260        30.085974     0.441782\n",
       "min       1.0       1.000000        18.250000     0.000000\n",
       "25%       1.0       9.000000        35.587500     0.000000\n",
       "50%       1.0      29.000000        70.350000     0.000000\n",
       "75%       1.0      55.000000        89.862500     1.000000\n",
       "max       1.0      72.000000       118.750000     1.000000"
      ]
     },
     "execution_count": 423,
     "metadata": {},
     "output_type": "execute_result"
    }
   ],
   "source": [
    "df.describe()"
   ]
  },
  {
   "cell_type": "markdown",
   "metadata": {},
   "source": [
    "# Data Preparation"
   ]
  },
  {
   "cell_type": "markdown",
   "metadata": {},
   "source": [
    "<li>In this part we split unchurned rows into train and test. This test data will be <i>X_test</i></li>\n",
    "<li>Then we combine the churned data rows with unchurned train rows to form <i>X_train</i></li>"
   ]
  },
  {
   "cell_type": "code",
   "execution_count": 424,
   "metadata": {},
   "outputs": [
    {
     "name": "stdout",
     "output_type": "stream",
     "text": [
      "(1869, 22)\n",
      "(5163, 22)\n"
     ]
    }
   ],
   "source": [
    "# split as churned and unchurned datadrames \n",
    "\n",
    "churned_df = df.loc[df['Churn Value'] == 1]\n",
    "unchurned_df = df.loc[df['Churn Value'] == 0]\n",
    "\n",
    "print(churned_df.shape)\n",
    "print(unchurned_df.shape)"
   ]
  },
  {
   "cell_type": "code",
   "execution_count": 425,
   "metadata": {},
   "outputs": [
    {
     "data": {
      "text/plain": [
       "0    5163\n",
       "1    1869\n",
       "Name: Churn Value, dtype: int64"
      ]
     },
     "execution_count": 425,
     "metadata": {},
     "output_type": "execute_result"
    }
   ],
   "source": [
    "df['Churn Value'].value_counts()"
   ]
  },
  {
   "cell_type": "code",
   "execution_count": 426,
   "metadata": {},
   "outputs": [
    {
     "data": {
      "text/html": [
       "<div>\n",
       "<style scoped>\n",
       "    .dataframe tbody tr th:only-of-type {\n",
       "        vertical-align: middle;\n",
       "    }\n",
       "\n",
       "    .dataframe tbody tr th {\n",
       "        vertical-align: top;\n",
       "    }\n",
       "\n",
       "    .dataframe thead th {\n",
       "        text-align: right;\n",
       "    }\n",
       "</style>\n",
       "<table border=\"1\" class=\"dataframe\">\n",
       "  <thead>\n",
       "    <tr style=\"text-align: right;\">\n",
       "      <th></th>\n",
       "      <th>CustomerID</th>\n",
       "      <th>Count</th>\n",
       "      <th>Gender</th>\n",
       "      <th>Senior Citizen</th>\n",
       "      <th>Partner</th>\n",
       "      <th>Dependents</th>\n",
       "      <th>Tenure Months</th>\n",
       "      <th>Phone Service</th>\n",
       "      <th>Multiple Lines</th>\n",
       "      <th>Internet Service</th>\n",
       "      <th>...</th>\n",
       "      <th>Device Protection</th>\n",
       "      <th>Tech Support</th>\n",
       "      <th>Streaming TV</th>\n",
       "      <th>Streaming Movies</th>\n",
       "      <th>Contract</th>\n",
       "      <th>Paperless Billing</th>\n",
       "      <th>Payment Method</th>\n",
       "      <th>Monthly Charges</th>\n",
       "      <th>Churn Label</th>\n",
       "      <th>Churn Value</th>\n",
       "    </tr>\n",
       "  </thead>\n",
       "  <tbody>\n",
       "    <tr>\n",
       "      <th>0</th>\n",
       "      <td>2558</td>\n",
       "      <td>1</td>\n",
       "      <td>1</td>\n",
       "      <td>0</td>\n",
       "      <td>0</td>\n",
       "      <td>0</td>\n",
       "      <td>2</td>\n",
       "      <td>1</td>\n",
       "      <td>0</td>\n",
       "      <td>0</td>\n",
       "      <td>...</td>\n",
       "      <td>0</td>\n",
       "      <td>0</td>\n",
       "      <td>0</td>\n",
       "      <td>0</td>\n",
       "      <td>0</td>\n",
       "      <td>1</td>\n",
       "      <td>3</td>\n",
       "      <td>53.85</td>\n",
       "      <td>1</td>\n",
       "      <td>1</td>\n",
       "    </tr>\n",
       "    <tr>\n",
       "      <th>1</th>\n",
       "      <td>6500</td>\n",
       "      <td>1</td>\n",
       "      <td>0</td>\n",
       "      <td>0</td>\n",
       "      <td>0</td>\n",
       "      <td>1</td>\n",
       "      <td>2</td>\n",
       "      <td>1</td>\n",
       "      <td>0</td>\n",
       "      <td>1</td>\n",
       "      <td>...</td>\n",
       "      <td>0</td>\n",
       "      <td>0</td>\n",
       "      <td>0</td>\n",
       "      <td>0</td>\n",
       "      <td>0</td>\n",
       "      <td>1</td>\n",
       "      <td>2</td>\n",
       "      <td>70.70</td>\n",
       "      <td>1</td>\n",
       "      <td>1</td>\n",
       "    </tr>\n",
       "    <tr>\n",
       "      <th>2</th>\n",
       "      <td>6540</td>\n",
       "      <td>1</td>\n",
       "      <td>0</td>\n",
       "      <td>0</td>\n",
       "      <td>0</td>\n",
       "      <td>1</td>\n",
       "      <td>8</td>\n",
       "      <td>1</td>\n",
       "      <td>2</td>\n",
       "      <td>1</td>\n",
       "      <td>...</td>\n",
       "      <td>2</td>\n",
       "      <td>0</td>\n",
       "      <td>2</td>\n",
       "      <td>2</td>\n",
       "      <td>0</td>\n",
       "      <td>1</td>\n",
       "      <td>2</td>\n",
       "      <td>99.65</td>\n",
       "      <td>1</td>\n",
       "      <td>1</td>\n",
       "    </tr>\n",
       "    <tr>\n",
       "      <th>3</th>\n",
       "      <td>5593</td>\n",
       "      <td>1</td>\n",
       "      <td>0</td>\n",
       "      <td>0</td>\n",
       "      <td>1</td>\n",
       "      <td>1</td>\n",
       "      <td>28</td>\n",
       "      <td>1</td>\n",
       "      <td>2</td>\n",
       "      <td>1</td>\n",
       "      <td>...</td>\n",
       "      <td>2</td>\n",
       "      <td>2</td>\n",
       "      <td>2</td>\n",
       "      <td>2</td>\n",
       "      <td>0</td>\n",
       "      <td>1</td>\n",
       "      <td>2</td>\n",
       "      <td>104.80</td>\n",
       "      <td>1</td>\n",
       "      <td>1</td>\n",
       "    </tr>\n",
       "    <tr>\n",
       "      <th>4</th>\n",
       "      <td>174</td>\n",
       "      <td>1</td>\n",
       "      <td>1</td>\n",
       "      <td>0</td>\n",
       "      <td>0</td>\n",
       "      <td>1</td>\n",
       "      <td>49</td>\n",
       "      <td>1</td>\n",
       "      <td>2</td>\n",
       "      <td>1</td>\n",
       "      <td>...</td>\n",
       "      <td>2</td>\n",
       "      <td>0</td>\n",
       "      <td>2</td>\n",
       "      <td>2</td>\n",
       "      <td>0</td>\n",
       "      <td>1</td>\n",
       "      <td>0</td>\n",
       "      <td>103.70</td>\n",
       "      <td>1</td>\n",
       "      <td>1</td>\n",
       "    </tr>\n",
       "  </tbody>\n",
       "</table>\n",
       "<p>5 rows × 22 columns</p>\n",
       "</div>"
      ],
      "text/plain": [
       "  CustomerID Count Gender Senior Citizen Partner Dependents  Tenure Months  \\\n",
       "0       2558     1      1              0       0          0              2   \n",
       "1       6500     1      0              0       0          1              2   \n",
       "2       6540     1      0              0       0          1              8   \n",
       "3       5593     1      0              0       1          1             28   \n",
       "4        174     1      1              0       0          1             49   \n",
       "\n",
       "  Phone Service Multiple Lines Internet Service  ... Device Protection  \\\n",
       "0             1              0                0  ...                 0   \n",
       "1             1              0                1  ...                 0   \n",
       "2             1              2                1  ...                 2   \n",
       "3             1              2                1  ...                 2   \n",
       "4             1              2                1  ...                 2   \n",
       "\n",
       "  Tech Support Streaming TV Streaming Movies Contract Paperless Billing  \\\n",
       "0            0            0                0        0                 1   \n",
       "1            0            0                0        0                 1   \n",
       "2            0            2                2        0                 1   \n",
       "3            2            2                2        0                 1   \n",
       "4            0            2                2        0                 1   \n",
       "\n",
       "  Payment Method Monthly Charges Churn Label  Churn Value  \n",
       "0              3           53.85           1            1  \n",
       "1              2           70.70           1            1  \n",
       "2              2           99.65           1            1  \n",
       "3              2          104.80           1            1  \n",
       "4              0          103.70           1            1  \n",
       "\n",
       "[5 rows x 22 columns]"
      ]
     },
     "execution_count": 426,
     "metadata": {},
     "output_type": "execute_result"
    }
   ],
   "source": [
    "def feature_engineer(df):\n",
    "\n",
    "\n",
    "    cols_to_convert = [feature for feature in cont_features if len(df[feature].unique())<4]\n",
    "    # Convert the columns to string type\n",
    "    df[cols_to_convert] = df[cols_to_convert].apply(lambda x: x.astype(str))\n",
    "\n",
    "    # Label encode the columns\n",
    "    df[cat_features] = df[cat_features].apply(LabelEncoder().fit_transform)\n",
    "\n",
    "    # Convert the columns to string type\n",
    "    df[cat_features+cols_to_convert] = df[cat_features+cols_to_convert].apply(lambda x: x.astype(str))\n",
    "\n",
    "    return df\n",
    "\n",
    "df_new=feature_engineer(df)\n",
    "df_new.head()"
   ]
  },
  {
   "attachments": {},
   "cell_type": "markdown",
   "metadata": {},
   "source": [
    "### Correlation"
   ]
  },
  {
   "cell_type": "code",
   "execution_count": 429,
   "metadata": {},
   "outputs": [
    {
     "data": {
      "image/png": "[encoded data removed]",
      "text/plain": [
       "<Figure size 720x576 with 2 Axes>"
      ]
     },
     "metadata": {},
     "output_type": "display_data"
    }
   ],
   "source": [
    "def plot_corr(df):\n",
    "    plt.figure(figsize=(10, 8))\n",
    "\n",
    "    # Set the color palette\n",
    "    sns.set_palette(sns.color_palette(\"RdBu\", n_colors=7))\n",
    "\n",
    "    sns.heatmap(df.corr(),annot=True)\n",
    "    plt.show()\n",
    "\n",
    "plot_corr(df_new)"
   ]
  },
  {
   "cell_type": "code",
   "execution_count": 430,
   "metadata": {},
   "outputs": [
    {
     "name": "stdout",
     "output_type": "stream",
     "text": [
      "X_train shape: (3139, 21)\n",
      "y_train shape: (3139,)\n",
      "X_test shape: (1346, 21)\n",
      "y_test shape: (1346,)\n"
     ]
    }
   ],
   "source": [
    "def undersample(df):\n",
    "\n",
    "    positive_df = df[df['Churn Value']=='1']\n",
    "    negative_df = df[df['Churn Value']!='1']\n",
    "    negative_df=negative_df.sample(n=int((positive_df.shape[0])*1.4))\n",
    "\n",
    "    df_new=pd.concat([positive_df,negative_df],axis=0)\n",
    "\n",
    "    features=df_new.columns.to_list()\n",
    "    features.remove('Churn Value')\n",
    "\n",
    "    X=df_new[features]\n",
    "    y=df_new['Churn Value']\n",
    "\n",
    "    X_train, X_test, y_train, y_test = train_test_split(X, y, test_size=0.3, random_state=42,stratify=y)\n",
    "\n",
    "    return X_train, X_test, y_train, y_test\n",
    "\n",
    "    \n",
    "X_train, X_test, y_train, y_test = undersample(df)\n",
    "#X_train, X_test, y_train, y_test = train_test_split(X, y,stratify=y, test_size = 0.2, random_state = 20)\n",
    "print('X_train shape:',X_train.shape)\n",
    "print('y_train shape:',y_train.shape)\n",
    "print('X_test shape:',X_test.shape)\n",
    "print('y_test shape:',y_test.shape) "
   ]
  },
  {
   "cell_type": "markdown",
   "metadata": {},
   "source": [
    "###  Feature Engineering"
   ]
  },
  {
   "cell_type": "code",
   "execution_count": 431,
   "metadata": {},
   "outputs": [
    {
     "data": {
      "text/plain": [
       "Index(['CustomerID', 'Count', 'Gender', 'Senior Citizen', 'Partner',\n",
       "       'Dependents', 'Tenure Months', 'Phone Service', 'Multiple Lines',\n",
       "       'Internet Service', 'Online Security', 'Online Backup',\n",
       "       'Device Protection', 'Tech Support', 'Streaming TV', 'Streaming Movies',\n",
       "       'Contract', 'Paperless Billing', 'Payment Method', 'Monthly Charges',\n",
       "       'Churn Label'],\n",
       "      dtype='object')"
      ]
     },
     "execution_count": 431,
     "metadata": {},
     "output_type": "execute_result"
    }
   ],
   "source": [
    "X_train.columns"
   ]
  },
  {
   "cell_type": "code",
   "execution_count": 432,
   "metadata": {},
   "outputs": [
    {
     "data": {
      "text/plain": [
       "21"
      ]
     },
     "execution_count": 432,
     "metadata": {},
     "output_type": "execute_result"
    }
   ],
   "source": [
    "# X_train = feature_eng(X_train)\n",
    "# X_test = feature_eng(X_test)\n",
    "\n",
    "\n",
    "len(list(X_train.columns))"
   ]
  },
  {
   "cell_type": "markdown",
   "metadata": {},
   "source": [
    "# Modelling"
   ]
  },
  {
   "cell_type": "code",
   "execution_count": 433,
   "metadata": {},
   "outputs": [],
   "source": [
    "def get_best_params(X,y):\n",
    "   \"\"\"\n",
    "   Gets the best params\n",
    "   i/p:X,y\n",
    "   o/p:params\n",
    "   \"\"\"\n",
    "   rf = RandomForestClassifier(n_estimators=50)\n",
    "   # Use StratifiedKFold with 5 folds\n",
    "   skf = StratifiedKFold(n_splits=5, shuffle=True, random_state=20)\n",
    "\n",
    "\n",
    "   rf_params = {\n",
    "   'n_estimators': [150,200,250],\n",
    "   'max_depth': [ x for x in range(1,len(X.columns))],\n",
    "   }\n",
    "\n",
    "   gs = GridSearchCV(rf, param_grid=rf_params, cv=skf,error_score=\"raise\")\n",
    "\n",
    "   gs.fit(X, y)\n",
    "\n",
    "\n",
    "   print(gs.best_score_)\n",
    "\n",
    "   params = gs.best_params_\n",
    "      \n",
    "   return params"
   ]
  },
  {
   "cell_type": "code",
   "execution_count": 434,
   "metadata": {},
   "outputs": [
    {
     "data": {
      "text/html": [
       "<div>\n",
       "<style scoped>\n",
       "    .dataframe tbody tr th:only-of-type {\n",
       "        vertical-align: middle;\n",
       "    }\n",
       "\n",
       "    .dataframe tbody tr th {\n",
       "        vertical-align: top;\n",
       "    }\n",
       "\n",
       "    .dataframe thead th {\n",
       "        text-align: right;\n",
       "    }\n",
       "</style>\n",
       "<table border=\"1\" class=\"dataframe\">\n",
       "  <thead>\n",
       "    <tr style=\"text-align: right;\">\n",
       "      <th></th>\n",
       "      <th>CustomerID</th>\n",
       "      <th>Count</th>\n",
       "      <th>Gender</th>\n",
       "      <th>Senior Citizen</th>\n",
       "      <th>Partner</th>\n",
       "      <th>Dependents</th>\n",
       "      <th>Tenure Months</th>\n",
       "      <th>Phone Service</th>\n",
       "      <th>Multiple Lines</th>\n",
       "      <th>Internet Service</th>\n",
       "      <th>...</th>\n",
       "      <th>Online Backup</th>\n",
       "      <th>Device Protection</th>\n",
       "      <th>Tech Support</th>\n",
       "      <th>Streaming TV</th>\n",
       "      <th>Streaming Movies</th>\n",
       "      <th>Contract</th>\n",
       "      <th>Paperless Billing</th>\n",
       "      <th>Payment Method</th>\n",
       "      <th>Monthly Charges</th>\n",
       "      <th>Churn Label</th>\n",
       "    </tr>\n",
       "  </thead>\n",
       "  <tbody>\n",
       "    <tr>\n",
       "      <th>6500</th>\n",
       "      <td>2113</td>\n",
       "      <td>1</td>\n",
       "      <td>0</td>\n",
       "      <td>0</td>\n",
       "      <td>0</td>\n",
       "      <td>0</td>\n",
       "      <td>32</td>\n",
       "      <td>1</td>\n",
       "      <td>0</td>\n",
       "      <td>2</td>\n",
       "      <td>...</td>\n",
       "      <td>1</td>\n",
       "      <td>1</td>\n",
       "      <td>1</td>\n",
       "      <td>1</td>\n",
       "      <td>1</td>\n",
       "      <td>0</td>\n",
       "      <td>0</td>\n",
       "      <td>0</td>\n",
       "      <td>19.9</td>\n",
       "      <td>0</td>\n",
       "    </tr>\n",
       "    <tr>\n",
       "      <th>1294</th>\n",
       "      <td>2559</td>\n",
       "      <td>1</td>\n",
       "      <td>1</td>\n",
       "      <td>0</td>\n",
       "      <td>0</td>\n",
       "      <td>0</td>\n",
       "      <td>5</td>\n",
       "      <td>0</td>\n",
       "      <td>1</td>\n",
       "      <td>0</td>\n",
       "      <td>...</td>\n",
       "      <td>2</td>\n",
       "      <td>0</td>\n",
       "      <td>0</td>\n",
       "      <td>2</td>\n",
       "      <td>2</td>\n",
       "      <td>0</td>\n",
       "      <td>1</td>\n",
       "      <td>3</td>\n",
       "      <td>51.0</td>\n",
       "      <td>1</td>\n",
       "    </tr>\n",
       "  </tbody>\n",
       "</table>\n",
       "<p>2 rows × 21 columns</p>\n",
       "</div>"
      ],
      "text/plain": [
       "     CustomerID Count Gender Senior Citizen Partner Dependents  Tenure Months  \\\n",
       "6500       2113     1      0              0       0          0             32   \n",
       "1294       2559     1      1              0       0          0              5   \n",
       "\n",
       "     Phone Service Multiple Lines Internet Service  ... Online Backup  \\\n",
       "6500             1              0                2  ...             1   \n",
       "1294             0              1                0  ...             2   \n",
       "\n",
       "     Device Protection Tech Support Streaming TV Streaming Movies Contract  \\\n",
       "6500                 1            1            1                1        0   \n",
       "1294                 0            0            2                2        0   \n",
       "\n",
       "     Paperless Billing Payment Method Monthly Charges  Churn Label  \n",
       "6500                 0              0            19.9            0  \n",
       "1294                 1              3            51.0            1  \n",
       "\n",
       "[2 rows x 21 columns]"
      ]
     },
     "execution_count": 434,
     "metadata": {},
     "output_type": "execute_result"
    }
   ],
   "source": [
    "X_train.head(2)"
   ]
  },
  {
   "cell_type": "code",
   "execution_count": null,
   "metadata": {},
   "outputs": [],
   "source": []
  },
  {
   "cell_type": "code",
   "execution_count": 435,
   "metadata": {},
   "outputs": [],
   "source": [
    "all_cols = set(X_train.columns)\n",
    "\n",
    "cols_to_remove = {'CustomerID',\n",
    "                    'Count'\n",
    "                    'Zip Code',\n",
    "                    'Lat Long',\n",
    "                    'Total Charges',\n",
    "                    'Internet Service_Fiber optic',\n",
    "                    'Internet Service_No',\n",
    "                    'Multiple Lines_No phone service',\n",
    "                    'Latitude',\n",
    "                    'Longitude',\n",
    "                    'Churn Label',\n",
    "                    'Churn Reason'\n",
    "                    }\n",
    "cols_filtered = list(all_cols-cols_to_remove)\n"
   ]
  },
  {
   "cell_type": "code",
   "execution_count": null,
   "metadata": {},
   "outputs": [],
   "source": []
  },
  {
   "cell_type": "code",
   "execution_count": 436,
   "metadata": {},
   "outputs": [
    {
     "data": {
      "text/plain": [
       "Contract              object\n",
       "Online Security       object\n",
       "Gender                object\n",
       "Device Protection     object\n",
       "Streaming TV          object\n",
       "Count                 object\n",
       "Phone Service         object\n",
       "Paperless Billing     object\n",
       "Streaming Movies      object\n",
       "Online Backup         object\n",
       "Multiple Lines        object\n",
       "Payment Method        object\n",
       "Partner               object\n",
       "Dependents            object\n",
       "Tenure Months          int64\n",
       "Monthly Charges      float64\n",
       "Internet Service      object\n",
       "Senior Citizen        object\n",
       "Tech Support          object\n",
       "dtype: object"
      ]
     },
     "execution_count": 436,
     "metadata": {},
     "output_type": "execute_result"
    }
   ],
   "source": [
    "X_train[cols_filtered].dtypes"
   ]
  },
  {
   "cell_type": "code",
   "execution_count": 437,
   "metadata": {},
   "outputs": [
    {
     "name": "stdout",
     "output_type": "stream",
     "text": [
      "0.7782723310882881\n"
     ]
    },
    {
     "data": {
      "text/plain": [
       "RandomForestClassifier(max_depth=8, n_estimators=250)"
      ]
     },
     "execution_count": 437,
     "metadata": {},
     "output_type": "execute_result"
    }
   ],
   "source": [
    "best_params = get_best_params(X_train[cols_filtered],y_train)\n",
    "\n",
    "rf_base = RandomForestClassifier(n_estimators=best_params['n_estimators'],max_depth=best_params['max_depth'])\n",
    "rf_base.fit(X_train[cols_filtered],y_train)\n"
   ]
  },
  {
   "cell_type": "code",
   "execution_count": 438,
   "metadata": {},
   "outputs": [
    {
     "data": {
      "text/plain": [
       "{'Contract': 0.1965511074080554,\n",
       " 'Online Security': 0.10160108438676417,\n",
       " 'Gender': 0.012881171192262387,\n",
       " 'Device Protection': 0.024111756768836465,\n",
       " 'Streaming TV': 0.01254936574704834,\n",
       " 'Count': 0.0,\n",
       " 'Phone Service': 0.006355356263052204,\n",
       " 'Paperless Billing': 0.02283950981853628,\n",
       " 'Streaming Movies': 0.013199215703267975,\n",
       " 'Online Backup': 0.03340778603116336,\n",
       " 'Multiple Lines': 0.013677023102024885,\n",
       " 'Payment Method': 0.035416099436128855,\n",
       " 'Partner': 0.015693804919164833,\n",
       " 'Dependents': 0.07251698092338012,\n",
       " 'Tenure Months': 0.18925520161133969,\n",
       " 'Monthly Charges': 0.12157176527469214,\n",
       " 'Internet Service': 0.04736530870243243,\n",
       " 'Senior Citizen': 0.012021668412621781,\n",
       " 'Tech Support': 0.06898579429922846}"
      ]
     },
     "execution_count": 438,
     "metadata": {},
     "output_type": "execute_result"
    }
   ],
   "source": [
    "# Get the feature importances\n",
    "importances = rf_base.feature_importances_\n",
    "\n",
    "feature_names = cols_filtered\n",
    "\n",
    "# Print the importances\n",
    "\n",
    "feature_importances = dict(zip(feature_names, importances))\n",
    "feature_importances\n"
   ]
  },
  {
   "cell_type": "code",
   "execution_count": 439,
   "metadata": {},
   "outputs": [
    {
     "data": {
      "image/png": "[encoded data removed]",
      "text/plain": [
       "<Figure size 720x504 with 1 Axes>"
      ]
     },
     "metadata": {},
     "output_type": "display_data"
    }
   ],
   "source": [
    "# Zip the lists and sort by the values in list1\n",
    "sorted_filtered_lists = [tup for tup in sorted(zip(importances, feature_names), key=lambda x: x[0]) if tup[0] >= 0.06]\n",
    "# Unzip the sorted lists\n",
    "importances, feature_names = zip(*sorted_filtered_lists)\n",
    "\n",
    "importances, feature_names = list(importances), list(feature_names)\n",
    "\n",
    "# Plot the importances\n",
    "\n",
    "# Set figure size\n",
    "\n",
    "plt.figure(figsize=(10, 7))\n",
    "plt.title('Factors that influence customer churn')\n",
    "plt.bar(range(len(importances)), importances)\n",
    "plt.xticks(range(len(feature_names)), feature_names)\n",
    "plt.xlabel(\"features\")\n",
    "plt.ylabel(\"Feature importance\")\n",
    "\n",
    "plt.show()\n"
   ]
  },
  {
   "cell_type": "code",
   "execution_count": 440,
   "metadata": {},
   "outputs": [
    {
     "data": {
      "text/plain": [
       "{'max_depth': 8, 'n_estimators': 250}"
      ]
     },
     "execution_count": 440,
     "metadata": {},
     "output_type": "execute_result"
    }
   ],
   "source": [
    "best_params"
   ]
  },
  {
   "cell_type": "code",
   "execution_count": 441,
   "metadata": {},
   "outputs": [
    {
     "data": {
      "text/plain": [
       "['Tech Support',\n",
       " 'Dependents',\n",
       " 'Online Security',\n",
       " 'Monthly Charges',\n",
       " 'Tenure Months',\n",
       " 'Contract']"
      ]
     },
     "execution_count": 441,
     "metadata": {},
     "output_type": "execute_result"
    }
   ],
   "source": [
    "feature_names"
   ]
  },
  {
   "cell_type": "code",
   "execution_count": 442,
   "metadata": {},
   "outputs": [],
   "source": [
    "imp_features = feature_names"
   ]
  },
  {
   "cell_type": "code",
   "execution_count": 443,
   "metadata": {},
   "outputs": [
    {
     "data": {
      "image/png": "[encoded data removed]",
      "text/plain": [
       "<Figure size 504x360 with 2 Axes>"
      ]
     },
     "metadata": {},
     "output_type": "display_data"
    },
    {
     "name": "stdout",
     "output_type": "stream",
     "text": [
      "Score: 0.8419878942338325\n",
      "Accuracy:0.84\n",
      "Precision:0.79\n",
      "Recall:0.84\n",
      "F1:0.82\n"
     ]
    }
   ],
   "source": [
    "best_rf = RandomForestClassifier(n_estimators=best_params['n_estimators'],max_depth=best_params['max_depth'])\n",
    "best_rf.fit(X_train[imp_features],y_train)\n",
    "## Prediction\n",
    "y_pred = best_rf.predict(X_train[imp_features])\n",
    "\n",
    "\n",
    "## Predicted Probabilities!\n",
    "y_pred_prob = best_rf.predict_proba(X_train[imp_features])\n",
    "\n",
    "produce_confusion('Churned', 'Un-Churned',y_train,y_pred)\n",
    "\n",
    "\n",
    "print('Score:',best_rf.score(X_train[imp_features],y_train.values))\n",
    "train_scores = apr(y_pred, y_train)\n"
   ]
  },
  {
   "attachments": {},
   "cell_type": "markdown",
   "metadata": {},
   "source": [
    "### Test data Evaluation"
   ]
  },
  {
   "cell_type": "code",
   "execution_count": 444,
   "metadata": {},
   "outputs": [
    {
     "data": {
      "image/png": "[encoded data removed]",
      "text/plain": [
       "<Figure size 504x360 with 2 Axes>"
      ]
     },
     "metadata": {},
     "output_type": "display_data"
    },
    {
     "name": "stdout",
     "output_type": "stream",
     "text": [
      "Score: 0.75\n",
      "Accuracy:0.75\n",
      "Precision:0.7\n",
      "Recall:0.72\n",
      "F1:0.71\n"
     ]
    }
   ],
   "source": [
    "\n",
    "\n",
    "y_pred = best_rf.predict(X_test[imp_features])\n",
    "y_pred_prob = best_rf.predict_proba(X_test[imp_features])\n",
    "\n",
    "\n",
    "\n",
    "produce_confusion('Churned', 'Un-Churned',y_test,y_pred)\n",
    "\n",
    "print('Score:',round(best_rf.score(X_test[imp_features],y_test),2))\n",
    "test_scores = apr(y_pred, y_test)\n"
   ]
  },
  {
   "cell_type": "code",
   "execution_count": 445,
   "metadata": {},
   "outputs": [],
   "source": [
    "\n",
    "y_pred_proba = best_rf.predict_log_proba(X_test[feature_names])\n"
   ]
  },
  {
   "cell_type": "code",
   "execution_count": 446,
   "metadata": {},
   "outputs": [
    {
     "name": "stdout",
     "output_type": "stream",
     "text": [
      "              precision    recall  f1-score   support\n",
      "\n",
      "           0       0.80      0.78      0.79       785\n",
      "           1       0.70      0.72      0.71       561\n",
      "\n",
      "    accuracy                           0.75      1346\n",
      "   macro avg       0.75      0.75      0.75      1346\n",
      "weighted avg       0.76      0.75      0.75      1346\n",
      "\n"
     ]
    }
   ],
   "source": [
    "from sklearn.metrics import classification_report\n",
    "\n",
    "# Print the classification report\n",
    "print(classification_report(y_test, y_pred, target_names=['0', '1']))"
   ]
  },
  {
   "cell_type": "code",
   "execution_count": 452,
   "metadata": {},
   "outputs": [
    {
     "data": {
      "image/png": "[encoded data removed]",
      "text/plain": [
       "<Figure size 1080x792 with 1 Axes>"
      ]
     },
     "metadata": {},
     "output_type": "display_data"
    }
   ],
   "source": [
    "from sklearn.metrics import auc\n",
    "\n",
    "# Calculate the false positive rates, true positive rates, and thresholds\n",
    "fpr, tpr, thresholds = roc_curve(y_test, y_pred_proba[:,1],pos_label='1')\n",
    "\n",
    "# Calculate the AUC\n",
    "roc_auc = auc(fpr, tpr)\n",
    "\n",
    "# Set figure size\n",
    "plt.figure(figsize=(15, 11))\n",
    "\n",
    "# Plot ROC curve\n",
    "sns.lineplot(x=fpr,y=tpr, label='ROC curve (area = %0.2f)' % roc_auc)\n",
    "plt.plot([0, 1], [0, 1], 'k--')  # random predictions curve\n",
    "plt.xlim([0.0, 1.0])\n",
    "plt.ylim([0.0, 1.0])\n",
    "plt.xlabel('False Positive Rate')\n",
    "plt.ylabel('True Positive Rate')\n",
    "plt.title('ROC Curve')\n",
    "plt.legend()\n",
    "plt.show()"
   ]
  },
  {
   "cell_type": "markdown",
   "metadata": {},
   "source": [
    "# Find 500 customers most likely to churn"
   ]
  },
  {
   "cell_type": "code",
   "execution_count": 448,
   "metadata": {},
   "outputs": [],
   "source": [
    "df_new['churn_probability'] = best_rf.predict_proba(df_new[imp_features]).T[0]\n",
    "customers = df_new.sort_values(by='churn_probability', axis=0, ascending=False)\n",
    "customers_500 = customers['CustomerID'].head(500)\n",
    "\n"
   ]
  },
  {
   "cell_type": "code",
   "execution_count": 449,
   "metadata": {},
   "outputs": [],
   "source": [
    "customers_500.to_csv('customers_500.csv',index=False)"
   ]
  },
  {
   "cell_type": "markdown",
   "metadata": {},
   "source": [
    "### Churn Risk of Remaining Customers"
   ]
  },
  {
   "cell_type": "code",
   "execution_count": 450,
   "metadata": {},
   "outputs": [
    {
     "ename": "NameError",
     "evalue": "name 'X_unchurned' is not defined",
     "output_type": "error",
     "traceback": [
      "\u001b[1;31m---------------------------------------------------------------------------\u001b[0m",
      "\u001b[1;31mNameError\u001b[0m                                 Traceback (most recent call last)",
      "\u001b[1;32md:\\DS_AI\\Digital Futures\\Projects\\github\\churn project\\Customer-Churn-Prediction\\churn_model_RF.ipynb Cell 52\u001b[0m in \u001b[0;36m<cell line: 4>\u001b[1;34m()\u001b[0m\n\u001b[0;32m      <a href='vscode-notebook-cell:/d%3A/DS_AI/Digital%20Futures/Projects/github/churn%20project/Customer-Churn-Prediction/churn_model_RF.ipynb#Y101sZmlsZQ%3D%3D?line=1'>2</a>\u001b[0m rem_customers \u001b[39m=\u001b[39m \u001b[39mset\u001b[39m(unchurned_df[\u001b[39m'\u001b[39m\u001b[39mCustomerID\u001b[39m\u001b[39m'\u001b[39m])\u001b[39m-\u001b[39m\u001b[39mset\u001b[39m(customers_500)\n\u001b[0;32m      <a href='vscode-notebook-cell:/d%3A/DS_AI/Digital%20Futures/Projects/github/churn%20project/Customer-Churn-Prediction/churn_model_RF.ipynb#Y101sZmlsZQ%3D%3D?line=2'>3</a>\u001b[0m \u001b[39m# get a dataframe of remaining customers\u001b[39;00m\n\u001b[1;32m----> <a href='vscode-notebook-cell:/d%3A/DS_AI/Digital%20Futures/Projects/github/churn%20project/Customer-Churn-Prediction/churn_model_RF.ipynb#Y101sZmlsZQ%3D%3D?line=3'>4</a>\u001b[0m rem_unchurned \u001b[39m=\u001b[39m X_unchurned[X_unchurned[\u001b[39m'\u001b[39m\u001b[39mCustomerID\u001b[39m\u001b[39m'\u001b[39m]\u001b[39m.\u001b[39misin(rem_customers)]\n\u001b[0;32m      <a href='vscode-notebook-cell:/d%3A/DS_AI/Digital%20Futures/Projects/github/churn%20project/Customer-Churn-Prediction/churn_model_RF.ipynb#Y101sZmlsZQ%3D%3D?line=4'>5</a>\u001b[0m rem_unchurned\u001b[39m.\u001b[39mshape\n",
      "\u001b[1;31mNameError\u001b[0m: name 'X_unchurned' is not defined"
     ]
    }
   ],
   "source": [
    "# find remaining customer id who are still un-churned\n",
    "rem_customers = set(unchurned_df['CustomerID'])-set(customers_500)\n",
    "# get a dataframe of remaining customers\n",
    "rem_unchurned = X_unchurned[X_unchurned['CustomerID'].isin(rem_customers)]\n",
    "rem_unchurned.shape"
   ]
  },
  {
   "cell_type": "code",
   "execution_count": null,
   "metadata": {},
   "outputs": [],
   "source": [
    "# finds the churn probability of remaining customers\n",
    "y_rem_pred_prob = best_rf.predict_proba(rem_unchurned[imp_features]).T[0]\n",
    "remain_cust = rem_unchurned[['CustomerID']].copy()\n",
    "remain_cust['churn_probability'] = y_rem_pred_prob\n",
    "remain_cust = remain_cust.sort_values('churn_probability',ascending=False)\n"
   ]
  },
  {
   "cell_type": "code",
   "execution_count": null,
   "metadata": {},
   "outputs": [],
   "source": [
    "remain_cust.to_csv('churn_probabilities.csv',index=False)"
   ]
  },
  {
   "cell_type": "code",
   "execution_count": null,
   "metadata": {},
   "outputs": [],
   "source": []
  },
  {
   "cell_type": "code",
   "execution_count": null,
   "metadata": {},
   "outputs": [],
   "source": []
  }
 ],
 "metadata": {
  "kernelspec": {
   "display_name": "Python 3.9.12 ('base')",
   "language": "python",
   "name": "python3"
  },
  "language_info": {
   "codemirror_mode": {
    "name": "ipython",
    "version": 3
   },
   "file_extension": ".py",
   "mimetype": "text/x-python",
   "name": "python",
   "nbconvert_exporter": "python",
   "pygments_lexer": "ipython3",
   "version": "3.9.12 (main, Apr  4 2022, 05:22:27) [MSC v.1916 64 bit (AMD64)]"
  },
  "orig_nbformat": 4,
  "vscode": {
   "interpreter": {
    "hash": "e42634819b8c191a5d07eaf23810ff32516dd8d3875f28ec3e488928fbd3c187"
   }
  }
 },
 "nbformat": 4,
 "nbformat_minor": 2
}
