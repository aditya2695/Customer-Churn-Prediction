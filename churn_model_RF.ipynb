{
 "cells": [
  {
   "cell_type": "markdown",
   "metadata": {},
   "source": [
    "<h1>Project 3: Swan Teleco</h1>\n",
    "<h3>Customer Retention Marketing</h2>"
   ]
  },
  {
   "cell_type": "markdown",
   "metadata": {},
   "source": [
    "Import Libraries"
   ]
  },
  {
   "cell_type": "code",
   "execution_count": 1,
   "metadata": {},
   "outputs": [],
   "source": [
    "import numpy as np\n",
    "import seaborn as sns\n",
    "import matplotlib.pyplot as plt\n",
    "import pandas as pd\n",
    "\n",
    "from sklearn import metrics\n",
    "from time import time\n",
    "\n",
    "%matplotlib inline\n",
    "\n",
    "from sklearn.tree import DecisionTreeClassifier\n",
    "from sklearn.model_selection import train_test_split, cross_val_score, GridSearchCV\n",
    "from sklearn.metrics import confusion_matrix, accuracy_score\n",
    "from sklearn.ensemble import BaggingClassifier\n",
    "from sklearn.ensemble import RandomForestClassifier, ExtraTreesClassifier\n",
    "\n",
    "from sklearn.metrics import ConfusionMatrixDisplay\n",
    "\n",
    "from sklearn.compose import ColumnTransformer\n",
    "from sklearn.preprocessing import StandardScaler\n"
   ]
  },
  {
   "cell_type": "markdown",
   "metadata": {},
   "source": [
    "Functions for Model Evaluation"
   ]
  },
  {
   "cell_type": "code",
   "execution_count": 2,
   "metadata": {},
   "outputs": [],
   "source": [
    "def apr(y_pred, y_real):\n",
    "\n",
    "\n",
    "    accuracy = metrics.accuracy_score(y_real, y_pred)\n",
    "    precision = metrics.precision_score(y_real, y_pred)\n",
    "    recall = metrics.recall_score(y_real, y_pred)\n",
    "    f1 = metrics.f1_score(y_real, y_pred)\n",
    "    \n",
    "    print(f\"Accuracy:{accuracy}\")\n",
    "    print(f\"Precision:{precision}\")\n",
    "    print(f\"Recall:{recall}\")\n",
    "    print(f\"F1:{f1}\")\n",
    "    return accuracy, precision, recall, f1\n",
    "\n",
    "\n",
    "##\n",
    "\n",
    "def produce_confusion(positive_label, negative_label,y_test,y_pred):\n",
    "    \n",
    "   \n",
    "    #Build the CM\n",
    "    plt.figure(figsize=(7,5))\n",
    "\n",
    "    cm = metrics.confusion_matrix(y_test, y_pred) \n",
    "    \n",
    "    ax= plt.subplot()\n",
    "    sns.heatmap(cm, annot=True, ax=ax, fmt='g'); \n",
    "\n",
    "    # labels, title, ticks\n",
    "    ax.set_xlabel('Predicted labels');ax.set_ylabel('Real labels'); \n",
    "    ax.set_title('Confusion Matrix'); \n",
    "    ax.xaxis.set_ticklabels(['Not Churned', 'Churned'])\n",
    "    ax.yaxis.set_ticklabels(['Not Churned', 'Churned'])\n",
    "\n",
    "    plt.show()\n"
   ]
  },
  {
   "cell_type": "markdown",
   "metadata": {},
   "source": [
    "### Import Data"
   ]
  },
  {
   "cell_type": "code",
   "execution_count": 3,
   "metadata": {},
   "outputs": [
    {
     "data": {
      "text/plain": [
       "(7043, 31)"
      ]
     },
     "execution_count": 3,
     "metadata": {},
     "output_type": "execute_result"
    }
   ],
   "source": [
    "file_name = \"customer_churn.xlsx\"\n",
    "df = pd.read_excel(file_name,sheet_name='Telco_Churn')\n",
    "df.shape"
   ]
  },
  {
   "cell_type": "code",
   "execution_count": 4,
   "metadata": {},
   "outputs": [
    {
     "data": {
      "text/plain": [
       "(7032, 25)"
      ]
     },
     "execution_count": 4,
     "metadata": {},
     "output_type": "execute_result"
    }
   ],
   "source": [
    "cols_to_remove =  ['Count','Churn Label','Lat Long','Country','State','City']\n",
    "\n",
    "df.drop(columns = cols_to_remove, inplace = True)\n",
    "\n",
    "# remove rows with whitespaces as values\n",
    "df = df.drop(df[df['Total Charges'] == ' '].index)\n",
    "df = df.drop(df[df['Monthly Charges'] == ' '].index)\n",
    "df.shape"
   ]
  },
  {
   "cell_type": "code",
   "execution_count": 5,
   "metadata": {},
   "outputs": [
    {
     "data": {
      "text/plain": [
       "CustomerID            0.00\n",
       "Zip Code              0.00\n",
       "Latitude              0.00\n",
       "Longitude             0.00\n",
       "Gender                0.00\n",
       "Senior Citizen        0.00\n",
       "Partner               0.00\n",
       "Dependents            0.00\n",
       "Tenure Months         0.00\n",
       "Phone Service         0.00\n",
       "Multiple Lines        0.00\n",
       "Internet Service      0.00\n",
       "Online Security       0.00\n",
       "Online Backup         0.00\n",
       "Device Protection     0.00\n",
       "Tech Support          0.00\n",
       "Streaming TV          0.00\n",
       "Streaming Movies      0.00\n",
       "Contract              0.00\n",
       "Paperless Billing     0.00\n",
       "Payment Method        0.00\n",
       "Monthly Charges       0.00\n",
       "Total Charges         0.00\n",
       "Churn Value           0.00\n",
       "Churn Reason         73.42\n",
       "dtype: float64"
      ]
     },
     "execution_count": 5,
     "metadata": {},
     "output_type": "execute_result"
    }
   ],
   "source": [
    "df.isnull().mean().round(4) * 100"
   ]
  },
  {
   "cell_type": "code",
   "execution_count": 6,
   "metadata": {},
   "outputs": [
    {
     "data": {
      "text/plain": [
       "(5163, 25)"
      ]
     },
     "execution_count": 6,
     "metadata": {},
     "output_type": "execute_result"
    }
   ],
   "source": [
    "df[df['Churn Value'] == 0].shape"
   ]
  },
  {
   "cell_type": "code",
   "execution_count": 7,
   "metadata": {},
   "outputs": [
    {
     "data": {
      "text/plain": [
       "(5163, 25)"
      ]
     },
     "execution_count": 7,
     "metadata": {},
     "output_type": "execute_result"
    }
   ],
   "source": [
    "df[df['Churn Reason'].isnull()].shape"
   ]
  },
  {
   "cell_type": "markdown",
   "metadata": {},
   "source": [
    "# Data Preparation"
   ]
  },
  {
   "cell_type": "markdown",
   "metadata": {},
   "source": [
    "<li>In this part we split unchurned rows into train and test. This test data will be <i>X_test</i></li>\n",
    "<li>Then we combine the churned data rows with unchurned train rows to form <i>X_train</i></li>"
   ]
  },
  {
   "cell_type": "code",
   "execution_count": 8,
   "metadata": {},
   "outputs": [
    {
     "name": "stdout",
     "output_type": "stream",
     "text": [
      "(1869, 25)\n",
      "(5163, 25)\n"
     ]
    }
   ],
   "source": [
    "# split as churned and unchurned datadrames \n",
    "\n",
    "churned_df = df.loc[df['Churn Value'] == 1]\n",
    "unchurned_df = df.loc[df['Churn Value'] == 0]\n",
    "\n",
    "print(churned_df.shape)\n",
    "print(unchurned_df.shape)"
   ]
  },
  {
   "cell_type": "code",
   "execution_count": 9,
   "metadata": {},
   "outputs": [],
   "source": [
    "feature_cols = list(df.columns)\n",
    "feature_cols.remove('Churn Value')\n",
    "\n",
    "\n",
    "# split into features and dependent variable\n",
    "X_churned = churned_df[feature_cols]\n",
    "y_churned = churned_df['Churn Value']\n",
    "\n",
    "\n",
    "X_unchurned = unchurned_df[feature_cols]\n",
    "y_unchurned = unchurned_df['Churn Value']"
   ]
  },
  {
   "cell_type": "code",
   "execution_count": 10,
   "metadata": {},
   "outputs": [
    {
     "name": "stdout",
     "output_type": "stream",
     "text": [
      "X_train shape: (2065, 24)\n",
      "y_train shape: (2065,)\n",
      "X_test shape: (3098, 24)\n",
      "y_test shape: (3098,)\n"
     ]
    }
   ],
   "source": [
    "X_train_uc, X_test_uc, y_train_uc, y_test_uc = train_test_split(X_unchurned, y_unchurned, test_size = 0.6, random_state = 20)\n",
    "print('X_train shape:',X_train_uc.shape)\n",
    "print('y_train shape:',y_train_uc.shape)\n",
    "print('X_test shape:',X_test_uc.shape)\n",
    "print('y_test shape:',y_test_uc.shape)"
   ]
  },
  {
   "cell_type": "markdown",
   "metadata": {},
   "source": [
    "### Train Test Split"
   ]
  },
  {
   "cell_type": "code",
   "execution_count": 11,
   "metadata": {},
   "outputs": [
    {
     "name": "stdout",
     "output_type": "stream",
     "text": [
      "X_train shape: (3934, 24)\n",
      "y_train shape: (3934,)\n",
      "X_test shape: (5163, 24)\n",
      "y_test shape: (5163,)\n"
     ]
    }
   ],
   "source": [
    "# Combine X_churned and X_train_uc to produce X_train\n",
    "X_train = pd.concat([X_churned,X_train_uc])\n",
    "\n",
    "# Combine y_churned and y_train_uc to produce y_train\n",
    "y_train = pd.concat([y_churned,y_train_uc])\n",
    "\n",
    "\n",
    "X_test = X_unchurned\n",
    "y_test = y_unchurned\n",
    "\n",
    "print('X_train shape:',X_train.shape)\n",
    "print('y_train shape:',y_train.shape)\n",
    "print('X_test shape:',X_test.shape)\n",
    "print('y_test shape:',y_test.shape)\n"
   ]
  },
  {
   "cell_type": "markdown",
   "metadata": {},
   "source": [
    "###  Feature Engineering"
   ]
  },
  {
   "cell_type": "code",
   "execution_count": 12,
   "metadata": {},
   "outputs": [],
   "source": [
    "def feature_eng(df):\n",
    "    \n",
    "        df['Monthly Charges'].astype('float').astype('int')\n",
    "   \n",
    "    \n",
    "        # # scaling\n",
    "        st_scaler = StandardScaler()\n",
    "\n",
    "        col_transformer = ColumnTransformer(verbose = True, transformers = [('ss', st_scaler, ['Monthly Charges', 'Tenure Months'])])\n",
    "        depth_transform = col_transformer.fit_transform(df)\n",
    "        df_scaled = pd.DataFrame(depth_transform,index=df.index, columns =['Monthly Charges', 'Tenure Months'])\n",
    "\n",
    "        df[['mileage', 'BHP']]  = df_scaled.copy()\n",
    "\n",
    "        cols_to_ohe = {'Device Protection',\n",
    "                'Tech Support',\n",
    "                'Phone Service',\n",
    "                'Contract',\n",
    "                'Streaming Movies',\n",
    "                'Online Security',\n",
    "                'Dependents',\n",
    "                'Payment Method',\n",
    "                'Online Backup',\n",
    "                'Paperless Billing',\n",
    "                'Senior Citizen',\n",
    "                'Multiple Lines',\n",
    "                'Gender',\n",
    "                'Partner',\n",
    "                'Internet Service',\n",
    "                'Streaming TV'\n",
    "                }\n",
    "\n",
    "        # ohe\n",
    "        for col in cols_to_ohe:\n",
    "\n",
    "                df = pd.get_dummies(df, columns = [col], drop_first = True, prefix = col)\n",
    "\n",
    "\n",
    "        return df\n",
    "\n"
   ]
  },
  {
   "cell_type": "code",
   "execution_count": 13,
   "metadata": {},
   "outputs": [
    {
     "name": "stdout",
     "output_type": "stream",
     "text": [
      "[ColumnTransformer] ............ (1 of 1) Processing ss, total=   0.0s\n",
      "[ColumnTransformer] ............ (1 of 1) Processing ss, total=   0.0s\n",
      "[ColumnTransformer] ............ (1 of 1) Processing ss, total=   0.0s\n"
     ]
    },
    {
     "data": {
      "text/plain": [
       "37"
      ]
     },
     "execution_count": 13,
     "metadata": {},
     "output_type": "execute_result"
    }
   ],
   "source": [
    "X_train = feature_eng(X_train)\n",
    "X_test = feature_eng(X_test)\n",
    "X_unchurned = feature_eng(X_unchurned)\n",
    "\n",
    "len(list(X_train.columns))"
   ]
  },
  {
   "cell_type": "markdown",
   "metadata": {},
   "source": [
    "# Modelling"
   ]
  },
  {
   "cell_type": "code",
   "execution_count": 14,
   "metadata": {},
   "outputs": [],
   "source": [
    "def get_best_params(X,y):\n",
    "    \"\"\"\n",
    "    Gets the best params\n",
    "    i/p:X,y\n",
    "    o/p:params\n",
    "    \"\"\"\n",
    "    rf = RandomForestClassifier(n_estimators=50)\n",
    "   \n",
    "   \n",
    "    rf_params = {\n",
    "    'n_estimators': [150,200,250],\n",
    "    'max_depth': [ x for x in range(1,len(X.columns))],\n",
    "    }\n",
    "\n",
    "    gs = GridSearchCV(rf, param_grid=rf_params, cv=5,error_score=\"raise\")\n",
    "\n",
    "    gs.fit(X, y)\n",
    "\n",
    "    print(gs.best_score_)\n",
    "\n",
    "    params = gs.best_params_\n",
    "        \n",
    "    return params"
   ]
  },
  {
   "cell_type": "code",
   "execution_count": 15,
   "metadata": {},
   "outputs": [
    {
     "data": {
      "text/html": [
       "<div>\n",
       "<style scoped>\n",
       "    .dataframe tbody tr th:only-of-type {\n",
       "        vertical-align: middle;\n",
       "    }\n",
       "\n",
       "    .dataframe tbody tr th {\n",
       "        vertical-align: top;\n",
       "    }\n",
       "\n",
       "    .dataframe thead th {\n",
       "        text-align: right;\n",
       "    }\n",
       "</style>\n",
       "<table border=\"1\" class=\"dataframe\">\n",
       "  <thead>\n",
       "    <tr style=\"text-align: right;\">\n",
       "      <th></th>\n",
       "      <th>CustomerID</th>\n",
       "      <th>Zip Code</th>\n",
       "      <th>Latitude</th>\n",
       "      <th>Longitude</th>\n",
       "      <th>Tenure Months</th>\n",
       "      <th>Monthly Charges</th>\n",
       "      <th>Total Charges</th>\n",
       "      <th>Churn Reason</th>\n",
       "      <th>mileage</th>\n",
       "      <th>BHP</th>\n",
       "      <th>...</th>\n",
       "      <th>Multiple Lines_No phone service</th>\n",
       "      <th>Multiple Lines_Yes</th>\n",
       "      <th>Contract_One year</th>\n",
       "      <th>Contract_Two year</th>\n",
       "      <th>Dependents_Yes</th>\n",
       "      <th>Online Backup_No internet service</th>\n",
       "      <th>Online Backup_Yes</th>\n",
       "      <th>Tech Support_No internet service</th>\n",
       "      <th>Tech Support_Yes</th>\n",
       "      <th>Senior Citizen_Yes</th>\n",
       "    </tr>\n",
       "  </thead>\n",
       "  <tbody>\n",
       "    <tr>\n",
       "      <th>0</th>\n",
       "      <td>3668-QPYBK</td>\n",
       "      <td>90003</td>\n",
       "      <td>33.964131</td>\n",
       "      <td>-118.272783</td>\n",
       "      <td>2</td>\n",
       "      <td>53.85</td>\n",
       "      <td>108.15</td>\n",
       "      <td>Competitor made better offer</td>\n",
       "      <td>-0.466082</td>\n",
       "      <td>-1.080369</td>\n",
       "      <td>...</td>\n",
       "      <td>0</td>\n",
       "      <td>0</td>\n",
       "      <td>0</td>\n",
       "      <td>0</td>\n",
       "      <td>0</td>\n",
       "      <td>0</td>\n",
       "      <td>1</td>\n",
       "      <td>0</td>\n",
       "      <td>0</td>\n",
       "      <td>0</td>\n",
       "    </tr>\n",
       "    <tr>\n",
       "      <th>1</th>\n",
       "      <td>9237-HQITU</td>\n",
       "      <td>90005</td>\n",
       "      <td>34.059281</td>\n",
       "      <td>-118.307420</td>\n",
       "      <td>2</td>\n",
       "      <td>70.70</td>\n",
       "      <td>151.65</td>\n",
       "      <td>Moved</td>\n",
       "      <td>0.115136</td>\n",
       "      <td>-1.080369</td>\n",
       "      <td>...</td>\n",
       "      <td>0</td>\n",
       "      <td>0</td>\n",
       "      <td>0</td>\n",
       "      <td>0</td>\n",
       "      <td>1</td>\n",
       "      <td>0</td>\n",
       "      <td>0</td>\n",
       "      <td>0</td>\n",
       "      <td>0</td>\n",
       "      <td>0</td>\n",
       "    </tr>\n",
       "  </tbody>\n",
       "</table>\n",
       "<p>2 rows × 37 columns</p>\n",
       "</div>"
      ],
      "text/plain": [
       "   CustomerID  Zip Code   Latitude   Longitude  Tenure Months  \\\n",
       "0  3668-QPYBK     90003  33.964131 -118.272783              2   \n",
       "1  9237-HQITU     90005  34.059281 -118.307420              2   \n",
       "\n",
       "   Monthly Charges Total Charges                  Churn Reason   mileage  \\\n",
       "0            53.85        108.15  Competitor made better offer -0.466082   \n",
       "1            70.70        151.65                         Moved  0.115136   \n",
       "\n",
       "        BHP  ...  Multiple Lines_No phone service  Multiple Lines_Yes  \\\n",
       "0 -1.080369  ...                                0                   0   \n",
       "1 -1.080369  ...                                0                   0   \n",
       "\n",
       "   Contract_One year  Contract_Two year  Dependents_Yes  \\\n",
       "0                  0                  0               0   \n",
       "1                  0                  0               1   \n",
       "\n",
       "   Online Backup_No internet service  Online Backup_Yes  \\\n",
       "0                                  0                  1   \n",
       "1                                  0                  0   \n",
       "\n",
       "   Tech Support_No internet service  Tech Support_Yes  Senior Citizen_Yes  \n",
       "0                                 0                 0                   0  \n",
       "1                                 0                 0                   0  \n",
       "\n",
       "[2 rows x 37 columns]"
      ]
     },
     "execution_count": 15,
     "metadata": {},
     "output_type": "execute_result"
    }
   ],
   "source": [
    "X_train.head(2)"
   ]
  },
  {
   "cell_type": "code",
   "execution_count": null,
   "metadata": {},
   "outputs": [],
   "source": []
  },
  {
   "cell_type": "code",
   "execution_count": 16,
   "metadata": {},
   "outputs": [],
   "source": [
    "all_cols = set(X_train.columns)\n",
    "\n",
    "cols_to_remove = {'Country',\n",
    "                    'City',\n",
    "                    'State',\n",
    "                    'CustomerID',\n",
    "                    'Zip Code',\n",
    "                    'Lat Long',\n",
    "                    'Total Charges',\n",
    "                    'Internet Service_Fiber optic',\n",
    "                    'Internet Service_No',\n",
    "                    'Multiple Lines_No phone service',\n",
    "                    'Latitude',\n",
    "                    'Longitude',\n",
    "                    'Churn Reason'\n",
    "                    }\n",
    "cols_filtered = list(all_cols-cols_to_remove)\n"
   ]
  },
  {
   "cell_type": "code",
   "execution_count": 17,
   "metadata": {},
   "outputs": [
    {
     "data": {
      "text/plain": [
       "Partner_Yes                                 uint8\n",
       "mileage                                   float64\n",
       "Online Backup_Yes                           uint8\n",
       "Dependents_Yes                              uint8\n",
       "Multiple Lines_Yes                          uint8\n",
       "Streaming TV_Yes                            uint8\n",
       "Device Protection_No internet service       uint8\n",
       "Payment Method_Credit card (automatic)      uint8\n",
       "Online Backup_No internet service           uint8\n",
       "Streaming Movies_No internet service        uint8\n",
       "BHP                                       float64\n",
       "Tenure Months                               int64\n",
       "Online Security_No internet service         uint8\n",
       "Payment Method_Electronic check             uint8\n",
       "Device Protection_Yes                       uint8\n",
       "Senior Citizen_Yes                          uint8\n",
       "Gender_Male                                 uint8\n",
       "Payment Method_Mailed check                 uint8\n",
       "Online Security_Yes                         uint8\n",
       "Monthly Charges                           float64\n",
       "Streaming TV_No internet service            uint8\n",
       "Contract_One year                           uint8\n",
       "Streaming Movies_Yes                        uint8\n",
       "Paperless Billing_Yes                       uint8\n",
       "Phone Service_Yes                           uint8\n",
       "Contract_Two year                           uint8\n",
       "Tech Support_No internet service            uint8\n",
       "Tech Support_Yes                            uint8\n",
       "dtype: object"
      ]
     },
     "execution_count": 17,
     "metadata": {},
     "output_type": "execute_result"
    }
   ],
   "source": [
    "X_train[cols_filtered].dtypes"
   ]
  },
  {
   "cell_type": "code",
   "execution_count": 18,
   "metadata": {},
   "outputs": [
    {
     "name": "stdout",
     "output_type": "stream",
     "text": [
      "0.7679192087710278\n"
     ]
    },
    {
     "data": {
      "text/plain": [
       "RandomForestClassifier(max_depth=7, n_estimators=250)"
      ]
     },
     "execution_count": 18,
     "metadata": {},
     "output_type": "execute_result"
    }
   ],
   "source": [
    "best_params = get_best_params(X_train[cols_filtered],y_train)\n",
    "\n",
    "rf_base = RandomForestClassifier(n_estimators=best_params['n_estimators'],max_depth=best_params['max_depth'])\n",
    "rf_base.fit(X_train[cols_filtered],y_train)\n"
   ]
  },
  {
   "cell_type": "code",
   "execution_count": 19,
   "metadata": {},
   "outputs": [
    {
     "data": {
      "image/png": "[encoded data removed]",
      "text/plain": [
       "<Figure size 504x360 with 2 Axes>"
      ]
     },
     "metadata": {
      "needs_background": "light"
     },
     "output_type": "display_data"
    }
   ],
   "source": [
    "## Prediction\n",
    "y_pred = rf_base.predict(X_train[cols_filtered])\n",
    "\n",
    "produce_confusion('Churned', 'Un-Churned',y_train,y_pred)\n"
   ]
  },
  {
   "cell_type": "code",
   "execution_count": 20,
   "metadata": {},
   "outputs": [
    {
     "data": {
      "text/plain": [
       "{'max_depth': 7, 'n_estimators': 250}"
      ]
     },
     "execution_count": 20,
     "metadata": {},
     "output_type": "execute_result"
    }
   ],
   "source": [
    "best_params"
   ]
  },
  {
   "cell_type": "code",
   "execution_count": 21,
   "metadata": {},
   "outputs": [],
   "source": [
    "imp_features = rf_base.feature_names_in_"
   ]
  },
  {
   "cell_type": "code",
   "execution_count": 22,
   "metadata": {},
   "outputs": [
    {
     "data": {
      "image/png": "[encoded data removed]",
      "text/plain": [
       "<Figure size 504x360 with 2 Axes>"
      ]
     },
     "metadata": {
      "needs_background": "light"
     },
     "output_type": "display_data"
    },
    {
     "name": "stdout",
     "output_type": "stream",
     "text": [
      "Score: 0.8525673614641586\n",
      "Accuracy:0.8525673614641586\n",
      "Precision:0.8091127098321343\n",
      "Recall:0.9026217228464419\n",
      "F1:0.8533131006575619\n"
     ]
    }
   ],
   "source": [
    "best_rf = RandomForestClassifier(n_estimators=250,max_depth=9)\n",
    "best_rf.fit(X_train[imp_features],y_train)\n",
    "## Prediction\n",
    "y_pred = best_rf.predict(X_train[imp_features])\n",
    "\n",
    "## Predicted Probabilities!\n",
    "y_pred_prob = best_rf.predict_proba(X_train[imp_features])\n",
    "\n",
    "produce_confusion('Churned', 'Un-Churned',y_train,y_pred)\n",
    "\n",
    "\n",
    "print('Score:',best_rf.score(X_train[imp_features],y_train))\n",
    "train_scores = apr(y_pred, y_train)\n"
   ]
  },
  {
   "cell_type": "markdown",
   "metadata": {},
   "source": [
    "Test data"
   ]
  },
  {
   "cell_type": "code",
   "execution_count": 23,
   "metadata": {},
   "outputs": [
    {
     "data": {
      "image/png": "[encoded data removed]",
      "text/plain": [
       "<Figure size 504x360 with 2 Axes>"
      ]
     },
     "metadata": {
      "needs_background": "light"
     },
     "output_type": "display_data"
    },
    {
     "name": "stdout",
     "output_type": "stream",
     "text": [
      "Score: 0.7313577377493705\n",
      "Accuracy:0.7313577377493705\n",
      "Precision:0.0\n",
      "Recall:0.0\n",
      "F1:0.0\n"
     ]
    },
    {
     "name": "stderr",
     "output_type": "stream",
     "text": [
      "d:\\ProgramData\\Anaconda3\\lib\\site-packages\\sklearn\\metrics\\_classification.py:1318: UndefinedMetricWarning: Recall is ill-defined and being set to 0.0 due to no true samples. Use `zero_division` parameter to control this behavior.\n",
      "  _warn_prf(average, modifier, msg_start, len(result))\n"
     ]
    }
   ],
   "source": [
    "\n",
    "\n",
    "y_pred = best_rf.predict(X_test[imp_features])\n",
    "y_pred_prob = best_rf.predict_proba(X_test[imp_features])\n",
    "\n",
    "\n",
    "\n",
    "produce_confusion('Churned', 'Un-Churned',y_test,y_pred)\n",
    "\n",
    "print('Score:',best_rf.score(X_test[imp_features],y_test))\n",
    "test_scores = apr(y_pred, y_test)\n"
   ]
  },
  {
   "cell_type": "markdown",
   "metadata": {},
   "source": [
    "# Find 500 customers most likely to churn"
   ]
  },
  {
   "cell_type": "code",
   "execution_count": 24,
   "metadata": {},
   "outputs": [],
   "source": [
    "X_unchurned['churn_probability'] = best_rf.predict_proba(X_unchurned[imp_features]).T[0]\n",
    "customers = X_unchurned.sort_values(by='churn_probability', axis=0, ascending=False)\n",
    "customers_500 = customers['CustomerID'].head(500)\n",
    "\n"
   ]
  },
  {
   "cell_type": "code",
   "execution_count": 25,
   "metadata": {},
   "outputs": [],
   "source": [
    "customers_500.to_csv('customers_500.csv',index=False)"
   ]
  },
  {
   "cell_type": "markdown",
   "metadata": {},
   "source": [
    "### Churn Risk of Remaining Customers"
   ]
  },
  {
   "cell_type": "code",
   "execution_count": 26,
   "metadata": {},
   "outputs": [
    {
     "data": {
      "text/plain": [
       "(4663, 38)"
      ]
     },
     "execution_count": 26,
     "metadata": {},
     "output_type": "execute_result"
    }
   ],
   "source": [
    "# find remaining customer id who are still un-churned\n",
    "rem_customers = set(unchurned_df['CustomerID'])-set(customers_500)\n",
    "# get a dataframe of remaining customers\n",
    "rem_unchurned = X_unchurned[X_unchurned['CustomerID'].isin(rem_customers)]\n",
    "rem_unchurned.shape"
   ]
  },
  {
   "cell_type": "code",
   "execution_count": 27,
   "metadata": {},
   "outputs": [],
   "source": [
    "# finds the churn probability of remaining customers\n",
    "y_rem_pred_prob = best_rf.predict_proba(rem_unchurned[imp_features]).T[0]\n",
    "remain_cust = rem_unchurned[['CustomerID']].copy()\n",
    "remain_cust['churn_probability'] = y_rem_pred_prob\n",
    "remain_cust = remain_cust.sort_values('churn_probability',ascending=False)\n"
   ]
  },
  {
   "cell_type": "code",
   "execution_count": 28,
   "metadata": {},
   "outputs": [],
   "source": [
    "remain_cust.to_csv('churn_probabilities.csv',index=False)"
   ]
  },
  {
   "cell_type": "code",
   "execution_count": null,
   "metadata": {},
   "outputs": [],
   "source": []
  },
  {
   "cell_type": "code",
   "execution_count": null,
   "metadata": {},
   "outputs": [],
   "source": []
  }
 ],
 "metadata": {
  "kernelspec": {
   "display_name": "Python 3.9.12 ('base')",
   "language": "python",
   "name": "python3"
  },
  "language_info": {
   "codemirror_mode": {
    "name": "ipython",
    "version": 3
   },
   "file_extension": ".py",
   "mimetype": "text/x-python",
   "name": "python",
   "nbconvert_exporter": "python",
   "pygments_lexer": "ipython3",
   "version": "3.9.12"
  },
  "orig_nbformat": 4,
  "vscode": {
   "interpreter": {
    "hash": "e42634819b8c191a5d07eaf23810ff32516dd8d3875f28ec3e488928fbd3c187"
   }
  }
 },
 "nbformat": 4,
 "nbformat_minor": 2
}
